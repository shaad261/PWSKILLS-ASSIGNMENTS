{
 "cells": [
  {
   "cell_type": "code",
   "execution_count": 1,
   "id": "878dc1a2-317e-48ad-bece-70c357db4d3b",
   "metadata": {},
   "outputs": [],
   "source": [
    "#Q1- Errors are the problems in a program due to which the program will stop the execution. On the other hand, exceptions are raised when some internal events occur which changes the normal flow of the program."
   ]
  },
  {
   "cell_type": "code",
   "execution_count": 5,
   "id": "d91587b5-9cb8-4f0b-86aa-e82b06e16c4b",
   "metadata": {},
   "outputs": [],
   "source": [
    "#Q2-When an exception occurred, if we don’t handle it, the program terminates abruptly and the code past the line that caused the exception will not get executed.\n",
    "#eg\n",
    "def divide(a,b):\n",
    "    s=a/b\n",
    "    print(\"no error occured\")\n",
    "    return s"
   ]
  },
  {
   "cell_type": "code",
   "execution_count": 6,
   "id": "aa735882-dbad-4593-af5b-df4a21acd1f6",
   "metadata": {},
   "outputs": [
    {
     "ename": "ZeroDivisionError",
     "evalue": "division by zero",
     "output_type": "error",
     "traceback": [
      "\u001b[0;31m---------------------------------------------------------------------------\u001b[0m",
      "\u001b[0;31mZeroDivisionError\u001b[0m                         Traceback (most recent call last)",
      "Cell \u001b[0;32mIn[6], line 1\u001b[0m\n\u001b[0;32m----> 1\u001b[0m \u001b[43mdivide\u001b[49m\u001b[43m(\u001b[49m\u001b[38;5;241;43m8\u001b[39;49m\u001b[43m,\u001b[49m\u001b[38;5;241;43m0\u001b[39;49m\u001b[43m)\u001b[49m\n",
      "Cell \u001b[0;32mIn[5], line 4\u001b[0m, in \u001b[0;36mdivide\u001b[0;34m(a, b)\u001b[0m\n\u001b[1;32m      3\u001b[0m \u001b[38;5;28;01mdef\u001b[39;00m \u001b[38;5;21mdivide\u001b[39m(a,b):\n\u001b[0;32m----> 4\u001b[0m     s\u001b[38;5;241m=\u001b[39m\u001b[43ma\u001b[49m\u001b[38;5;241;43m/\u001b[39;49m\u001b[43mb\u001b[49m\n\u001b[1;32m      5\u001b[0m     \u001b[38;5;28mprint\u001b[39m(\u001b[38;5;124m\"\u001b[39m\u001b[38;5;124mno error occured\u001b[39m\u001b[38;5;124m\"\u001b[39m)\n\u001b[1;32m      6\u001b[0m     \u001b[38;5;28;01mreturn\u001b[39;00m s\n",
      "\u001b[0;31mZeroDivisionError\u001b[0m: division by zero"
     ]
    }
   ],
   "source": [
    "divide(8,0)"
   ]
  },
  {
   "cell_type": "code",
   "execution_count": 7,
   "id": "4abeb422-7f7c-4bc4-af07-8e4204338fa4",
   "metadata": {},
   "outputs": [
    {
     "name": "stdout",
     "output_type": "stream",
     "text": [
      "there is some issue with my code  division by zero\n",
      "i will execute always \n"
     ]
    }
   ],
   "source": [
    "# Q4\n",
    "try:\n",
    "        s=8/0\n",
    "        print(\"the result is\",s)\n",
    "except Exception as e :\n",
    "    print(\"there is some issue with my code \", e)\n",
    "else : \n",
    "        print(\"this block will execute once try will execute itself without an exception\")\n",
    "        \n",
    "finally :\n",
    "    \n",
    "    print(\"i will execute always \")"
   ]
  },
  {
   "cell_type": "code",
   "execution_count": 8,
   "id": "c1fa0210-09de-4fdc-8d55-209dd08f0962",
   "metadata": {},
   "outputs": [],
   "source": [
    "#Q5\n",
    "# Custom Exception in python works on the information provided by the user which might not be an internal or pre defined error "
   ]
  },
  {
   "cell_type": "code",
   "execution_count": 1,
   "id": "59a84a25-91b4-4443-bc61-b1b7a38da998",
   "metadata": {},
   "outputs": [
    {
     "name": "stdin",
     "output_type": "stream",
     "text": [
      "enter a 56\n",
      "enter b 0\n"
     ]
    },
    {
     "name": "stdout",
     "output_type": "stream",
     "text": [
      "DIVISION NOT POSSIBLE\n"
     ]
    }
   ],
   "source": [
    "#Q6\n",
    "class div(Exception):\n",
    "     def __init__(self, msg) :\n",
    "        self.msg = msg\n",
    "def div1(a,b):\n",
    "    if  b <= 0 :\n",
    "        raise div(\"DIVISION NOT POSSIBLE\")\n",
    "    else:\n",
    "        print(a/b)\n",
    "try : \n",
    "    a = int(input(\"enter a\"))\n",
    "    b = int(input(\"enter b\"))\n",
    "    div1(a,b)\n",
    "except div as e : \n",
    "    print(e)        \n",
    "        \n",
    "        \n",
    "    "
   ]
  },
  {
   "cell_type": "code",
   "execution_count": null,
   "id": "46a8cad2-e56e-4836-bb71-73e97b4fbf86",
   "metadata": {},
   "outputs": [],
   "source": []
  },
  {
   "cell_type": "code",
   "execution_count": null,
   "id": "01f011e7-5065-4a6b-bd70-bf4f94ce0b3c",
   "metadata": {},
   "outputs": [],
   "source": []
  }
 ],
 "metadata": {
  "kernelspec": {
   "display_name": "Python 3 (ipykernel)",
   "language": "python",
   "name": "python3"
  },
  "language_info": {
   "codemirror_mode": {
    "name": "ipython",
    "version": 3
   },
   "file_extension": ".py",
   "mimetype": "text/x-python",
   "name": "python",
   "nbconvert_exporter": "python",
   "pygments_lexer": "ipython3",
   "version": "3.10.8"
  }
 },
 "nbformat": 4,
 "nbformat_minor": 5
}
