{
 "cells": [
  {
   "cell_type": "code",
   "execution_count": null,
   "id": "2a111932-34e0-4bfd-bcf4-f234f73272fe",
   "metadata": {},
   "outputs": [],
   "source": [
    "#Q1 Statistics the practice or science of collecting and analysing numerical data in large quantities"
   ]
  },
  {
   "cell_type": "code",
   "execution_count": null,
   "id": "c54ee052-f806-4481-b9f5-443b3dfeb419",
   "metadata": {},
   "outputs": [],
   "source": [
    "#Q2 Statistics is mainly divided into the following two categories. Descriptive Statistics and Inferential Statistics\n",
    "Descriptive Statistics\n",
    "In the descriptive Statistics, the Data is described in a summarized way. The summarization is done from the sample of the population using different parameters like Mean or standard deviation. Descriptive Statistics are a way of using charts, graphs, and summary measures to organize, represent, and explain a set of Data. \n",
    "Data is typically arranged and displayed in tables or graphs summarizing details such as histograms, pie charts, bars or scatter plots.\n",
    "Descriptive Statistics are just descriptive and thus do not require normalization beyond the Data collected.\n",
    "Inferential Statistics\n",
    "In the Inferential Statistics, we try to interpret the Meaning of descriptive Statistics. After the Data has been collected, analyzed, and summarised we use Inferential Statistics to describe the Meaning of the collected Data. \n",
    "Inferential Statistics use the probability principle to assess whether trends contained in the research sample can be generalized to the larger population from which the sample originally comes.\n",
    "Inferential Statistics are intended to test hypotheses and investigate relationships between variables and can be used to make population predictions.\n",
    "Inferential Statistics are used to draw conclusions and inferences, i.e., to make valid generalizations from samples.\n",
    "\n"
   ]
  },
  {
   "cell_type": "code",
   "execution_count": null,
   "id": "03f4db36-8f2f-4107-8962-7cf79cc36664",
   "metadata": {},
   "outputs": [],
   "source": [
    "#Q3 Different types of data are \n",
    "Nominal data.\n",
    "Ordinal data.\n",
    "Discrete data.\n",
    "Continuous data."
   ]
  },
  {
   "cell_type": "code",
   "execution_count": 1,
   "id": "4d69a149-351b-495f-8d83-a17b883a7848",
   "metadata": {},
   "outputs": [],
   "source": [
    "#Q4  (i) Grading in exam: This dataset is qualitative data\n",
    "#    (ii) Colour of mangoes: This dataset is qualitative data\n",
    "#    (iii) Height data of a class: This dataset is quantitative data\n",
    "#    (iv) Number of mangoes exported by a farm: This dataset is quantitative data "
   ]
  },
  {
   "cell_type": "code",
   "execution_count": null,
   "id": "ee2b5c74-c760-4d88-b4cc-d0426ed4920d",
   "metadata": {},
   "outputs": [],
   "source": [
    "#Q5 Different levels  of measurement of data are \n",
    "    1. Nominal Scale data-color\n",
    "    2. Ordinal Scale Data- Qualification\n",
    "    3. Interval Scale Data - Temperature\n",
    "    4. Rank scale Data-Grades"
   ]
  },
  {
   "cell_type": "code",
   "execution_count": 2,
   "id": "8943b17b-e388-4a65-b07a-d69e21f2450a",
   "metadata": {},
   "outputs": [],
   "source": [
    "#Q6 Understanding the level of measurement is important when analyzing data because it determines the type of statistical analysis that can be performed on the data and the appropriate summary statistics that can be calculated\n"
   ]
  },
  {
   "cell_type": "code",
   "execution_count": 3,
   "id": "da4b534c-9165-43d0-b769-ef58bf0a7901",
   "metadata": {},
   "outputs": [],
   "source": [
    "#Q7  Rank matters in ordinal data but not in nominal data"
   ]
  },
  {
   "cell_type": "code",
   "execution_count": 4,
   "id": "d9aee98a-e44a-4a08-b842-6f7441c06cd9",
   "metadata": {},
   "outputs": [],
   "source": [
    "#Q8 A box plot is a type of plot that can be used to display data in terms of range."
   ]
  },
  {
   "cell_type": "code",
   "execution_count": 5,
   "id": "18c4d8c3-0af0-4a6f-839c-6358aa70d3eb",
   "metadata": {},
   "outputs": [],
   "source": [
    "#Q9 descriptive statistics is used to summarize and describe a set of data, while inferential statistics is used to make predictions or draw conclusions about a larger population based on a sample of data."
   ]
  },
  {
   "cell_type": "code",
   "execution_count": null,
   "id": "f2634051-1341-41a1-9e0f-391cac658492",
   "metadata": {},
   "outputs": [],
   "source": [
    "#Q10  Some common measures of central tendency and variability include:\n",
    "\n",
    "Mean: The mean is the arithmetic average of a set of data, calculated by adding all the values in the set and dividing by the number of observations. The mean is sensitive to extreme values, or outliers, and can be influenced by them. The mean is useful for describing the typical value of a dataset.\n",
    "\n",
    "Median: The median is the middle value in a set of data when the values are arranged in numerical order. The median is less sensitive to extreme values compared to the mean, making it a useful measure of central tendency for datasets with outliers.\n",
    "\n",
    "Mode: The mode is the value that occurs most frequently in a set of data. The mode is useful for describing the most common value in a dataset."
   ]
  }
 ],
 "metadata": {
  "kernelspec": {
   "display_name": "Python 3 (ipykernel)",
   "language": "python",
   "name": "python3"
  },
  "language_info": {
   "codemirror_mode": {
    "name": "ipython",
    "version": 3
   },
   "file_extension": ".py",
   "mimetype": "text/x-python",
   "name": "python",
   "nbconvert_exporter": "python",
   "pygments_lexer": "ipython3",
   "version": "3.10.8"
  }
 },
 "nbformat": 4,
 "nbformat_minor": 5
}
