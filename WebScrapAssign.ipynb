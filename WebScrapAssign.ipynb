{
 "cells": [
  {
   "cell_type": "code",
   "execution_count": null,
   "id": "2d41bc16-b38e-4d3b-a5e3-fa426603da41",
   "metadata": {},
   "outputs": [],
   "source": [
    "#Q1\n",
    "Web scraping is an automatic method to obtain large amounts of data from websites\n",
    "Many large websites, like Google, Twitter, Facebook, StackOverflow, etc. have API’s that allow you to access their data in a structured format.\n",
    "This is the best option, but there are other sites that don’t allow users to access large amounts of data in a structured form or they are simply not that technologically advanced. In that situation,\n",
    "it’s best to use Web Scraping to scrape the website for data.\n",
    "It is used for -\n",
    "            1. Price Monitoring\n",
    "            2. Market Research\n",
    "            3. News Monitoring\n",
    "            4. Sentiment Analysis\n"
   ]
  },
  {
   "cell_type": "code",
   "execution_count": null,
   "id": "d02424e7-41d4-4ea0-9a49-a89e0f6af38e",
   "metadata": {},
   "outputs": [],
   "source": [
    "#Q2\n",
    "1. Human copy-and-paste. The simplest form of web scraping is manually copying and pasting data from a web page into a text file or spreadsheet\n",
    "2. Computer vision web-page analysis.\n",
    "3. Text pattern matching. ...\n"
   ]
  },
  {
   "cell_type": "code",
   "execution_count": null,
   "id": "25255192-fd7c-4e63-8e5b-78e2bebbb102",
   "metadata": {},
   "outputs": [],
   "source": [
    "#Q3\n",
    "Beautiful Soup is a Python package for parsing HTML and XML documents.\n",
    "It creates a parse tree for parsed pages that can be used to extract data from HTML, which is useful for web scraping."
   ]
  },
  {
   "cell_type": "code",
   "execution_count": null,
   "id": "cec43471-5fd4-4fa0-b73b-3b464f5ea5dc",
   "metadata": {},
   "outputs": [],
   "source": [
    "#Q4\n",
    "Flask is a lightweight framework to build websites. We use this to parse our collected data and display it as HTML in a new HTML file."
   ]
  },
  {
   "cell_type": "code",
   "execution_count": null,
   "id": "0a057b79-c6bd-48d7-a1dd-b8623b57411e",
   "metadata": {},
   "outputs": [],
   "source": [
    "#Q5\n",
    "AWS services used are codepipeline and bean stalk\n",
    "AWS CodePipeline is a continuous delivery service you can use to model, visualize, and automate the steps required to release your software\n",
    "AWS Elastic Beanstalk is a service for deploying and scaling web applications and services"
   ]
  }
 ],
 "metadata": {
  "kernelspec": {
   "display_name": "Python 3 (ipykernel)",
   "language": "python",
   "name": "python3"
  },
  "language_info": {
   "codemirror_mode": {
    "name": "ipython",
    "version": 3
   },
   "file_extension": ".py",
   "mimetype": "text/x-python",
   "name": "python",
   "nbconvert_exporter": "python",
   "pygments_lexer": "ipython3",
   "version": "3.10.8"
  }
 },
 "nbformat": 4,
 "nbformat_minor": 5
}
