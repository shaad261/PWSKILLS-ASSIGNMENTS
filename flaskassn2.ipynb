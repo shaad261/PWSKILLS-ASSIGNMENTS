{
 "cells": [
  {
   "cell_type": "code",
   "execution_count": null,
   "id": "787205f0-53ae-4fbc-a596-1ed8a7a07d65",
   "metadata": {},
   "outputs": [],
   "source": [
    "#Q1 \n",
    "Get and Post methods are the HTTP request methods used inside the <form> tag to send form data to the server\n",
    "GET is used to request data from a specified resource.\n",
    "POST is used to send data to a server to create/update a resource.\n",
    "\n",
    "\n"
   ]
  },
  {
   "cell_type": "code",
   "execution_count": 2,
   "id": "d41a0636-6b67-4f57-a139-3606bbeffba6",
   "metadata": {},
   "outputs": [],
   "source": [
    "#Q2\n",
    "The Request, in Flask, is an object that contains all the data sent from the Client to Server. This data can be recovered using the GET/POST Methods."
   ]
  },
  {
   "cell_type": "code",
   "execution_count": null,
   "id": "2e226d92-8e66-4632-afcb-4a00f71d06ee",
   "metadata": {},
   "outputs": [],
   "source": [
    "#Q3\n",
    "Flask class has a redirect() function. When called, it returns a response object and redirects the user to another target location with specified status code"
   ]
  },
  {
   "cell_type": "code",
   "execution_count": null,
   "id": "cdda62f7-2a3d-4fc9-9ef3-5ef510bcdf7f",
   "metadata": {},
   "outputs": [],
   "source": [
    "#Q4\n",
    "Templates are files that contain static data as well as placeholders for dynamic data\n",
    "A template is rendered with specific data to produce a final document. \n",
    "Flask provides us the render_template() function which can be used to render the external HTML file to be returned as the response from the view function.\n"
   ]
  },
  {
   "cell_type": "markdown",
   "id": "bea4fe90-8bc9-42a7-8d78-b49745d18fe6",
   "metadata": {},
   "source": [
    "#Q5\n",
    "![SNOWFALL](.jpeg)\n"
   ]
  }
 ],
 "metadata": {
  "kernelspec": {
   "display_name": "Python 3 (ipykernel)",
   "language": "python",
   "name": "python3"
  },
  "language_info": {
   "codemirror_mode": {
    "name": "ipython",
    "version": 3
   },
   "file_extension": ".py",
   "mimetype": "text/x-python",
   "name": "python",
   "nbconvert_exporter": "python",
   "pygments_lexer": "ipython3",
   "version": "3.10.8"
  }
 },
 "nbformat": 4,
 "nbformat_minor": 5
}
