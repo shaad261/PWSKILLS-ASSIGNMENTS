{
 "cells": [
  {
   "cell_type": "code",
   "execution_count": 4,
   "id": "335baf29-1c0f-4a47-aca3-9ffd29f73268",
   "metadata": {},
   "outputs": [
    {
     "name": "stdout",
     "output_type": "stream",
     "text": [
      "Data type of variable 'list_':  <class 'list'>\n",
      "Data type of variable 'array_list':  <class 'numpy.ndarray'>\n"
     ]
    }
   ],
   "source": [
    "#Q1 Yes, there is a difference in the data type of the variables list_ and array_list.\n",
    "# The list_ variable is a Python list object, which can contain elements of different data types such as integers, strings, floats, etc. In this case, list_ contains string elements.\n",
    "# On the other hand, array_list is a NumPy array object, which is designed to work with homogeneous data, i.e., elements of the same data type.\n",
    "import numpy as np\n",
    "list_ = [ '1' , '2' , '3' , '4' , '5' ]\n",
    "array_list = np.array(object = list_)\n",
    "\n",
    "print(\"Data type of variable 'list_': \", type(list_))\n",
    "print(\"Data type of variable 'array_list': \", type(array_list))"
   ]
  },
  {
   "cell_type": "code",
   "execution_count": 5,
   "id": "253aae08-b08f-4f96-b4fa-34c13197d8b9",
   "metadata": {},
   "outputs": [
    {
     "name": "stdout",
     "output_type": "stream",
     "text": [
      "Data type of element 1 in variable 'list_': <class 'str'>\n",
      "Data type of element 2 in variable 'list_': <class 'str'>\n",
      "Data type of element 3 in variable 'list_': <class 'str'>\n",
      "Data type of element 4 in variable 'list_': <class 'str'>\n",
      "Data type of element 5 in variable 'list_': <class 'str'>\n",
      "Data type of element 1 in variable 'array_list': <class 'numpy.str_'>\n",
      "Data type of element 2 in variable 'array_list': <class 'numpy.str_'>\n",
      "Data type of element 3 in variable 'array_list': <class 'numpy.str_'>\n",
      "Data type of element 4 in variable 'array_list': <class 'numpy.str_'>\n",
      "Data type of element 5 in variable 'array_list': <class 'numpy.str_'>\n"
     ]
    }
   ],
   "source": [
    "#Q2 \n",
    "for i in range(len(list_)):\n",
    "    print(\"Data type of element {} in variable 'list_': {}\".format(i+1, type(list_[i])))\n",
    "    \n",
    "for i in range(len(array_list)):\n",
    "    print(\"Data type of element {} in variable 'array_list': {}\".format(i+1, type(array_list[i])))"
   ]
  },
  {
   "cell_type": "code",
   "execution_count": 7,
   "id": "5ed1db7e-6125-43ae-9022-8cebcc594418",
   "metadata": {},
   "outputs": [
    {
     "name": "stdout",
     "output_type": "stream",
     "text": [
      "Data type of element 1 in variable 'list_': <class 'str'>\n",
      "Data type of element 2 in variable 'list_': <class 'str'>\n",
      "Data type of element 3 in variable 'list_': <class 'str'>\n",
      "Data type of element 4 in variable 'list_': <class 'str'>\n",
      "Data type of element 5 in variable 'list_': <class 'str'>\n",
      "Data type of element 1 in variable 'array_list': <class 'numpy.int64'>\n",
      "Data type of element 2 in variable 'array_list': <class 'numpy.int64'>\n",
      "Data type of element 3 in variable 'array_list': <class 'numpy.int64'>\n",
      "Data type of element 4 in variable 'array_list': <class 'numpy.int64'>\n",
      "Data type of element 5 in variable 'array_list': <class 'numpy.int64'>\n"
     ]
    }
   ],
   "source": [
    "#Q3 As datatype is set as int all the elements in list_ will be converted to integer type when creating the array_list. The array_list will be a NumPy array of integer data type.\n",
    "# So list_ will remain a list object containing string elements, while array_list will be a NumPy array object containing integer elements.\n",
    "list_ = [ '1' , '2' , '3' , '4' , '5' ]\n",
    "array_list = np.array(object = list_, dtype = int)\n",
    "for i in range(len(list_)):\n",
    "    print(\"Data type of element {} in variable 'list_': {}\".format(i+1, type(list_[i])))\n",
    "for i in range(len(array_list)):\n",
    "    print(\"Data type of element {} in variable 'array_list': {}\".format(i+1, type(array_list[i])))"
   ]
  },
  {
   "cell_type": "code",
   "execution_count": 10,
   "id": "6cf0d03b-43e7-4c6a-97d0-cd4306314b12",
   "metadata": {},
   "outputs": [
    {
     "name": "stdout",
     "output_type": "stream",
     "text": [
      "[0.98849507 0.98519485 0.58543142 0.02785936]\n",
      "[0.73127919 0.13986978 0.63543819 0.821067  ]\n",
      "Shape of num_array: (2, 4)\n",
      "Size of num_array: 8\n"
     ]
    }
   ],
   "source": [
    "#Q4 \n",
    "a=np.random.rand(4)\n",
    "b=np.random.rand(4)\n",
    "print(a)\n",
    "print(b)\n",
    "num_array = np.array([a,b])\n",
    "\n",
    "# Finding shape and size\n",
    "print(\"Shape of num_array:\", num_array.shape)\n",
    "print(\"Size of num_array:\", num_array.size)"
   ]
  },
  {
   "cell_type": "code",
   "execution_count": null,
   "id": "ab45c0d4-6048-4be1-a5b1-564024f2e36d",
   "metadata": {},
   "outputs": [],
   "source": [
    "#Q5\n",
    "identity_matrix = np.identity(5)\n"
   ]
  }
 ],
 "metadata": {
  "kernelspec": {
   "display_name": "Python 3 (ipykernel)",
   "language": "python",
   "name": "python3"
  },
  "language_info": {
   "codemirror_mode": {
    "name": "ipython",
    "version": 3
   },
   "file_extension": ".py",
   "mimetype": "text/x-python",
   "name": "python",
   "nbconvert_exporter": "python",
   "pygments_lexer": "ipython3",
   "version": "3.10.8"
  }
 },
 "nbformat": 4,
 "nbformat_minor": 5
}
