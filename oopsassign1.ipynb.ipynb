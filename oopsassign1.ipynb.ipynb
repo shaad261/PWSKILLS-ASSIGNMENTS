{
 "cells": [
  {
   "cell_type": "code",
   "execution_count": 2,
   "id": "c12eade4-46cf-461f-99a1-343da43ccc42",
   "metadata": {},
   "outputs": [],
   "source": [
    "# 1. A class is a blueprint that defines the variables and the methods common to all the objects of a certain kind\n",
    "# An object is an instantiation of a class which contains data and methods working on the data \n",
    "# for example-Phone is a class and the brand of the phone and the specifications of the the phone are the classes\n",
    "\n",
    "# 2. four pillars of oop are-polymorphism,encapsulation,inheritance,abstraction\n",
    "\n",
    "# 3. The __init__ method lets the class initialize the object’s attributes\n",
    "\n",
    "# 4. The self in keyword in Python is used to all the instances in a class. By using the self keyword, one can easily access all the instances defined within a class, including its methods and attributes. \n",
    "\n",
    "# 5. The act of deriving new things from old existing things is known as inheritance \n",
    "# for example when a smartphone  was built it inherited the features of calling and messsaging from older phones and some new features were added like camera . \n"
   ]
  },
  {
   "cell_type": "code",
   "execution_count": null,
   "id": "66b2e4f1-d2a5-4254-9fd5-02966420aa96",
   "metadata": {},
   "outputs": [],
   "source": []
  },
  {
   "cell_type": "code",
   "execution_count": null,
   "id": "4ebebb31-8b9c-491e-a141-b066df4dfb91",
   "metadata": {},
   "outputs": [],
   "source": []
  },
  {
   "cell_type": "code",
   "execution_count": null,
   "id": "289f845f-3e2c-438f-b517-df6866ed184e",
   "metadata": {},
   "outputs": [],
   "source": []
  }
 ],
 "metadata": {
  "kernelspec": {
   "display_name": "Python 3 (ipykernel)",
   "language": "python",
   "name": "python3"
  },
  "language_info": {
   "codemirror_mode": {
    "name": "ipython",
    "version": 3
   },
   "file_extension": ".py",
   "mimetype": "text/x-python",
   "name": "python",
   "nbconvert_exporter": "python",
   "pygments_lexer": "ipython3",
   "version": "3.10.8"
  },
  "toc-showmarkdowntxt": false
 },
 "nbformat": 4,
 "nbformat_minor": 5
}
