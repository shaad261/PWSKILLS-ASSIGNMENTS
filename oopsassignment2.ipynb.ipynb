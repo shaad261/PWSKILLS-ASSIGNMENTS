{
 "cells": [
  {
   "cell_type": "code",
   "execution_count": null,
   "id": "ce0f01f2-bcc6-4c4f-9d30-8ccdac59e30b",
   "metadata": {},
   "outputs": [],
   "source": [
    "#Q1-\n",
    "open() function is used to open a file\n",
    "MODE   USE\n",
    "r-     Open a file for reading. (default)\n",
    "w-\t   Open a file for writing. Creates a new file if it does not exist or truncates the file if it exists.\n",
    "x-\t   Open a file for exclusive creation. If the file already exists, the operation fails.\n",
    "a-     Open a file for appending at the end of the file without truncating it. Creates a new file if it does not exist.\n",
    "t-\t   Open in text mode. (default)\n",
    "b-\t   Open in binary mode.\n",
    "+-\t   Open a file for updating (reading and writing)"
   ]
  },
  {
   "cell_type": "code",
   "execution_count": null,
   "id": "a99b943a-4f46-4046-8273-2073c900fce5",
   "metadata": {},
   "outputs": [],
   "source": [
    "#Q2\n",
    "File is closed using the close() method in Python\n",
    "It is important to close files because files are limited resources managed by the operating system, making sure files are closed after use will protect against hard-to-debug issues like running out of file handles or experiencing corrupted data."
   ]
  },
  {
   "cell_type": "code",
   "execution_count": 19,
   "id": "42402d70-6d26-4b4b-a41e-f4892ed12507",
   "metadata": {},
   "outputs": [
    {
     "name": "stdout",
     "output_type": "stream",
     "text": [
      "I want to become a Data Scientist\n"
     ]
    }
   ],
   "source": [
    "#Q3\n",
    "with open('untitled.txt', 'w') as file2:\n",
    "              file2.write('I want to become a Data Scientist')\n",
    "\n",
    "file = open(\"untitled.txt\")\n",
    "read_content = file.read()\n",
    "print(read_content)\n",
    "file1.close()"
   ]
  },
  {
   "cell_type": "code",
   "execution_count": 9,
   "id": "7c338017-9a50-4cd2-99f6-d39ef27c4b73",
   "metadata": {},
   "outputs": [],
   "source": [
    "#Q4\n",
    "## read()-Reads and returns a string of n characters,\n",
    "## readline()-This method will read one line in a file.\n",
    "## readlines()-This method will read the entire content of the file at a time.\n",
    "\n",
    "\n"
   ]
  },
  {
   "cell_type": "code",
   "execution_count": null,
   "id": "c116b97c-6aab-4a7b-8eab-c73154222c55",
   "metadata": {},
   "outputs": [],
   "source": [
    "#Q5\n",
    "Unlike open() where you have to close the file with the close() method, the with statement closes the file for you"
   ]
  },
  {
   "cell_type": "code",
   "execution_count": 18,
   "id": "55804fe8-3f20-4f2e-8aef-7e4599463dd4",
   "metadata": {},
   "outputs": [
    {
     "name": "stdin",
     "output_type": "stream",
     "text": [
      "Enter the name of the employee:  asdzfg \n",
      "Enter the name of the employee:  sfhd\n",
      "Enter the name of the employee:  dgfh\n"
     ]
    },
    {
     "name": "stdout",
     "output_type": "stream",
     "text": [
      "Data is written into the file.\n"
     ]
    }
   ],
   "source": [
    "#6\n",
    "## The write() function will write the content in the file without adding any extra characters.\n",
    "## writelines() function writes the content of a list to a file.\n",
    "## example\n",
    "file3 = open(\"untitled2.txt\", \"w\")\n",
    "lst = []\n",
    "for i in range(3):\n",
    "    name = input(\"Enter the name of the employee: \")\n",
    "    lst.append(name + '\\n')\n",
    "file3.writelines(lst)\n",
    "file3.close()\n",
    "print(\"Data is written into the file.\") "
   ]
  },
  {
   "cell_type": "code",
   "execution_count": null,
   "id": "8947c035-9ac2-4057-9b89-d87e0474de72",
   "metadata": {},
   "outputs": [],
   "source": []
  }
 ],
 "metadata": {
  "kernelspec": {
   "display_name": "Python 3 (ipykernel)",
   "language": "python",
   "name": "python3"
  },
  "language_info": {
   "codemirror_mode": {
    "name": "ipython",
    "version": 3
   },
   "file_extension": ".py",
   "mimetype": "text/x-python",
   "name": "python",
   "nbconvert_exporter": "python",
   "pygments_lexer": "ipython3",
   "version": "3.10.8"
  }
 },
 "nbformat": 4,
 "nbformat_minor": 5
}
