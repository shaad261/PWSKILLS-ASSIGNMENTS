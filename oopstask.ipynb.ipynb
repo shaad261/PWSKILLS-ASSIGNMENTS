{
 "cells": [
  {
   "cell_type": "code",
   "execution_count": 3,
   "id": "ac9b72ea-3796-474c-b0de-5e89312eeeee",
   "metadata": {},
   "outputs": [],
   "source": [
    "#Q1Create a vehicle class with an init method having instance variables as name_of_vehicle, max_speedand average_of_vehicle.\n",
    "class vehicle:\n",
    "    \n",
    "    def __init__(self , name_of_vehicle, max_speed, average_of_vehicle ):\n",
    "        \n",
    "        self.name_of_vehicle = name_of_vehicle\n",
    "        self.max_speed = max_speed\n",
    "        self.average_of_vehicle = average_of_vehicle"
   ]
  },
  {
   "cell_type": "code",
   "execution_count": 48,
   "id": "9f3fbdd6-cfa8-4fe3-912c-35ddf6543230",
   "metadata": {},
   "outputs": [],
   "source": [
    "#Q2-Create a child class car from the vehicle class created in Que 1, which will inherit the vehicle class.Create a method named seating_capacity which takes capacity as an argument and returns the name ofthe vehicle and its seating capacity.\n",
    "class child_vehicle(vehicle):\n",
    "    def seating_capacity(self ,capacity ):       \n",
    "        return( f\"{self.name_of_vehicle} has a seating capacity of {capacity} people.\")\n",
    "\n",
    "    "
   ]
  },
  {
   "cell_type": "code",
   "execution_count": 49,
   "id": "05a51aff-36df-4ce6-8a49-03201288aeef",
   "metadata": {},
   "outputs": [],
   "source": [
    "nc=child_vehicle(\"wagaonr\",150,5)"
   ]
  },
  {
   "cell_type": "code",
   "execution_count": 50,
   "id": "5a87b2b0-298a-4d27-9b6c-977aba0a436d",
   "metadata": {},
   "outputs": [
    {
     "name": "stdout",
     "output_type": "stream",
     "text": [
      "wagaonr has a seating capacity of 5 people.\n"
     ]
    }
   ],
   "source": [
    "print(nc.seating_capacity(5))  \n"
   ]
  },
  {
   "cell_type": "code",
   "execution_count": 72,
   "id": "49cab95f-74c3-4fb6-8bf7-813545a560ff",
   "metadata": {},
   "outputs": [],
   "source": [
    "verna=child_vehicle(\"VERNA\",220,12)"
   ]
  },
  {
   "cell_type": "code",
   "execution_count": 55,
   "id": "8d592c73-af1d-459e-8089-f9134119fe00",
   "metadata": {},
   "outputs": [
    {
     "data": {
      "text/plain": [
       "'VERNA has a seating capacity of 5 people.'"
      ]
     },
     "execution_count": 55,
     "metadata": {},
     "output_type": "execute_result"
    }
   ],
   "source": [
    "verna.seating_capacity(5)"
   ]
  },
  {
   "cell_type": "code",
   "execution_count": 60,
   "id": "9ced73de-aa26-416c-81cc-59bff5293bb5",
   "metadata": {},
   "outputs": [],
   "source": [
    "#Q3. \n",
    "# Multiple inheritance occurs if a child class inherits from more than one class \n",
    "class class1:\n",
    "    def test_class1(self) : \n",
    "        print(\"this is my class 1\" )\n",
    "\n",
    "class class2 :\n",
    "    def test_class2(self) : \n",
    "        print(\"this is my class 2\")\n",
    "        \n",
    "class class3 (class1 , class2) : \n",
    "    pass\n",
    "obj= class3()\n"
   ]
  },
  {
   "cell_type": "code",
   "execution_count": 62,
   "id": "d4740376-98e8-4c78-8370-1550de225d32",
   "metadata": {},
   "outputs": [
    {
     "name": "stdout",
     "output_type": "stream",
     "text": [
      "this is my class 1\n"
     ]
    }
   ],
   "source": [
    "obj.test_class1()"
   ]
  },
  {
   "cell_type": "code",
   "execution_count": 67,
   "id": "19ee159d-449d-426d-a600-b3c631491b68",
   "metadata": {},
   "outputs": [],
   "source": [
    "#Q4\n",
    "#A method that allows you to access an attribute in a given class is getter.\n",
    "#Setter is method that allows you to set or mutate the value of an attribute in a class.\n",
    "class vehicle1:\n",
    "    \n",
    "    def __init__(self , name_of_vehicle, max_speed, average_of_vehicle ):\n",
    "        \n",
    "        self.name_of_vehicle = name_of_vehicle\n",
    "        self.max_speed = max_speed\n",
    "        self.average_of_vehicle = average_of_vehicle\n",
    "    def getmaxsp(self):\n",
    "        return self.max_speed\n",
    "    def setmaxsp(self,max_speed):\n",
    "        self.max_speed=max_speed"
   ]
  },
  {
   "cell_type": "code",
   "execution_count": 74,
   "id": "339d6f28-4052-42bc-bcfa-7ebb32ae2fb8",
   "metadata": {},
   "outputs": [],
   "source": [
    "nc=vehicle1(\"wagaonr\",150,5)\n",
    "verna=vehicle1(\"VERNA\",220,12)"
   ]
  },
  {
   "cell_type": "code",
   "execution_count": 75,
   "id": "3ab82b2b-9dde-43ec-b5a0-8af636e8d818",
   "metadata": {},
   "outputs": [
    {
     "data": {
      "text/plain": [
       "150"
      ]
     },
     "execution_count": 75,
     "metadata": {},
     "output_type": "execute_result"
    }
   ],
   "source": [
    "nc.getmaxsp()"
   ]
  },
  {
   "cell_type": "code",
   "execution_count": 77,
   "id": "321854a5-75bd-4b42-89a8-25747e3d634e",
   "metadata": {},
   "outputs": [],
   "source": [
    "verna.setmaxsp(440)"
   ]
  },
  {
   "cell_type": "code",
   "execution_count": 78,
   "id": "8a9522b2-6393-46d1-bf3f-718462fc64cc",
   "metadata": {},
   "outputs": [
    {
     "data": {
      "text/plain": [
       "440"
      ]
     },
     "execution_count": 78,
     "metadata": {},
     "output_type": "execute_result"
    }
   ],
   "source": [
    "verna.getmaxsp()"
   ]
  },
  {
   "cell_type": "code",
   "execution_count": null,
   "id": "5b162ba8-2b06-4f99-ad40-09a2da0951fe",
   "metadata": {},
   "outputs": [],
   "source": [
    "#Q5.\n",
    "#"
   ]
  }
 ],
 "metadata": {
  "kernelspec": {
   "display_name": "Python 3 (ipykernel)",
   "language": "python",
   "name": "python3"
  },
  "language_info": {
   "codemirror_mode": {
    "name": "ipython",
    "version": 3
   },
   "file_extension": ".py",
   "mimetype": "text/x-python",
   "name": "python",
   "nbconvert_exporter": "python",
   "pygments_lexer": "ipython3",
   "version": "3.10.8"
  }
 },
 "nbformat": 4,
 "nbformat_minor": 5
}
