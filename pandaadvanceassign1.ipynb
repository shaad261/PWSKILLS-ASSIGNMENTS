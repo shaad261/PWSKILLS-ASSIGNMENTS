{
 "cells": [
  {
   "cell_type": "code",
   "execution_count": 1,
   "id": "4d228283-a0f3-4933-b7de-deb987168c36",
   "metadata": {},
   "outputs": [],
   "source": [
    "#Q1\n",
    "#1. read_csv()-This is one of the most crucial pandas methods in Python. read_csv() function helps read a comma-separated values (csv) file into a Pandas DataFrame. \n",
    "#2. head()-head(n) is used to return the first n rows of a dataset. By default, df.head() will return the first 5 rows of the DataFrame.\n",
    "#3. describe()-describe() is used to generate descriptive statistics of the data in a Pandas DataFrame or Series. It summarizes central tendency and dispersion of the dataset.\n",
    "#4. loc[:]-loc[:] helps to access a group of rows and columns in a dataset, a slice of the dataset, as per our requirement. \n",
    "#5. to_datetime()-to_datetime() converts a Python object to datetime format. "
   ]
  },
  {
   "cell_type": "code",
   "execution_count": 2,
   "id": "0c277eb9-0528-43de-8475-36d0d7167c9b",
   "metadata": {},
   "outputs": [],
   "source": [
    "#Q2 \n",
    "import pandas as pd\n",
    "\n",
    "def reindex_df(df):\n",
    "    df = df.reset_index(drop=True)\n",
    "    new_index = pd.Series(range(1, len(df)*2, 2))\n",
    "    df.index = new_index\n",
    "    return df"
   ]
  },
  {
   "cell_type": "code",
   "execution_count": 3,
   "id": "29c209c0-eec5-4de6-b34f-61f31704e70c",
   "metadata": {},
   "outputs": [],
   "source": [
    "#Q3\n",
    "def sum_first_three_values(df):\n",
    "    values = df['Values'][:3]\n",
    "    total = sum(values)\n",
    "    print(f\"The sum of the first three values is {total}\")"
   ]
  },
  {
   "cell_type": "code",
   "execution_count": 4,
   "id": "edd98ade-7f85-4f7e-a306-89405be10ca1",
   "metadata": {},
   "outputs": [],
   "source": [
    "#Q4 \n",
    "def add_word_count_column(df):\n",
    "    word_lists = df['Text'].str.split()\n",
    "    word_counts = word_lists.apply(len)\n",
    "    df['Word_Count'] = word_counts\n",
    "    return df"
   ]
  },
  {
   "cell_type": "code",
   "execution_count": 6,
   "id": "96ba3490-e87a-4960-a570-e30c19c93c78",
   "metadata": {},
   "outputs": [
    {
     "name": "stdout",
     "output_type": "stream",
     "text": [
      "14\n",
      "(7, 2)\n"
     ]
    }
   ],
   "source": [
    "#Q5 Size of a dataframe is the number of fields in the dataframe which is nothing but number of rows * number of columns. Shape of a dataframe gets the number of rows and number of columns of the dataframe.\n",
    "df1 = {\n",
    "     'Name':['George','Andrea','micheal','maggie','Ravi','Xien','Jalpa'],\n",
    "   'Mathematics_score':[62,47,55,74,32,77,86]}\n",
    " \n",
    "df1 = pd.DataFrame(df1,columns=['Name','Mathematics_score'])\n",
    "print(df1.size)\n",
    "print(df1.shape)"
   ]
  },
  {
   "cell_type": "code",
   "execution_count": 7,
   "id": "1a3b61a6-5d14-41a5-9a53-a866742626ad",
   "metadata": {},
   "outputs": [],
   "source": [
    "#Q6 pd.read_excel() is used to read excel file\n"
   ]
  },
  {
   "cell_type": "code",
   "execution_count": 8,
   "id": "c36075e9-5236-41c2-b760-0934cdd93583",
   "metadata": {},
   "outputs": [],
   "source": [
    "#Q7\n",
    "import pandas as pd\n",
    "\n",
    "def extract_username(df):\n",
    "    # Use the str.split() method to split the email addresses by the '@' symbol\n",
    "    email_parts = df['Email'].str.split('@', expand=True)\n",
    "    # Extract the first part of the split, which is the username\n",
    "    usernames = email_parts.iloc[:, 0]\n",
    "    # Add the 'Username' column to the DataFrame\n",
    "    df['Username'] = usernames\n",
    "    return df"
   ]
  },
  {
   "cell_type": "code",
   "execution_count": 10,
   "id": "d5022cc2-9036-4cf7-96ab-ff7f6f46724e",
   "metadata": {},
   "outputs": [],
   "source": [
    "#Q8\n",
    "def select_rows(df):\n",
    "    selected_rows = df[(df['A'] > 5) & (df['B'] < 10)]\n",
    "    return selected_rows"
   ]
  },
  {
   "cell_type": "code",
   "execution_count": 11,
   "id": "dc8baa72-a670-496a-a243-7dde854629da",
   "metadata": {},
   "outputs": [],
   "source": [
    "#Q9\n",
    "def stats(df):\n",
    "    mean = df['Values'].mean()\n",
    "    median = df['Values'].median()\n",
    "    std = df['Values'].std()"
   ]
  },
  {
   "cell_type": "code",
   "execution_count": 12,
   "id": "9a2a9d45-b404-46ba-9679-6d0c5a2aeb5d",
   "metadata": {},
   "outputs": [],
   "source": [
    "#Q10\n",
    "def calculate_moving_average(df):\n",
    "    ma = df['Sales'].rolling(window=7, min_periods=1).mean()\n",
    "    df['MovingAverage'] = ma\n",
    "    return df"
   ]
  },
  {
   "cell_type": "code",
   "execution_count": 13,
   "id": "f6f0a645-047e-43c9-99e3-0147f9f53cfd",
   "metadata": {},
   "outputs": [],
   "source": [
    "#Q11\n",
    "def add_weekday_column(df):\n",
    "    df['Date'] = pd.to_datetime(df['Date'])\n",
    "    df['Weekday'] = df['Date'].dt.day_name()\n",
    "    return df"
   ]
  },
  {
   "cell_type": "code",
   "execution_count": null,
   "id": "1673aad7-bcab-4cfc-b03e-e17905832f48",
   "metadata": {},
   "outputs": [],
   "source": [
    "df\n",
    "new_df = add_weekday_column(df)"
   ]
  }
 ],
 "metadata": {
  "kernelspec": {
   "display_name": "Python 3 (ipykernel)",
   "language": "python",
   "name": "python3"
  },
  "language_info": {
   "codemirror_mode": {
    "name": "ipython",
    "version": 3
   },
   "file_extension": ".py",
   "mimetype": "text/x-python",
   "name": "python",
   "nbconvert_exporter": "python",
   "pygments_lexer": "ipython3",
   "version": "3.10.8"
  }
 },
 "nbformat": 4,
 "nbformat_minor": 5
}
