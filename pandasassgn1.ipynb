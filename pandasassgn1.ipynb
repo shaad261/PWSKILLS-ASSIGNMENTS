{
 "cells": [
  {
   "cell_type": "code",
   "execution_count": 1,
   "id": "a03b0048-a4da-473b-8e64-183a5c8c0fb3",
   "metadata": {},
   "outputs": [
    {
     "name": "stdout",
     "output_type": "stream",
     "text": [
      "0     4\n",
      "1     8\n",
      "2    15\n",
      "3    16\n",
      "4    23\n",
      "5    42\n",
      "dtype: int64\n"
     ]
    }
   ],
   "source": [
    "#Q1\n",
    "import pandas as pd\n",
    "data = pd.Series([4, 8, 15, 16, 23, 42])\n",
    "print(data)\n"
   ]
  },
  {
   "cell_type": "code",
   "execution_count": 4,
   "id": "6b66f72a-b1d0-430a-97d9-91065d391be5",
   "metadata": {},
   "outputs": [
    {
     "name": "stdout",
     "output_type": "stream",
     "text": [
      "0     1\n",
      "1     2\n",
      "2     3\n",
      "3     4\n",
      "4     5\n",
      "5     6\n",
      "6     7\n",
      "7     8\n",
      "8     9\n",
      "9    10\n",
      "dtype: int64\n"
     ]
    }
   ],
   "source": [
    "#Q2\n",
    "import pandas as pd\n",
    "lst = [1, 2, 3, 4, 5, 6, 7, 8, 9, 10]\n",
    "final= pd.Series(lst)\n",
    "print(final)"
   ]
  },
  {
   "cell_type": "code",
   "execution_count": 6,
   "id": "f4856931-f07a-4124-a559-9a4f0d937fb0",
   "metadata": {},
   "outputs": [
    {
     "name": "stdout",
     "output_type": "stream",
     "text": [
      "    name  age  gender\n",
      "0  alice   35    male\n",
      "1    bob   30  female\n",
      "2  david   79    male\n"
     ]
    }
   ],
   "source": [
    "#Q3\n",
    "import pandas as pd\n",
    "lst ={'name':['alice','bob','david'],\n",
    "      'age':[35,30,79],\n",
    "      'gender':['male','female','male']\n",
    "}\n",
    "final1 = pd.DataFrame(lst)\n",
    "print(final1)"
   ]
  },
  {
   "cell_type": "code",
   "execution_count": null,
   "id": "aa0923cd-5415-4870-bff1-14e012f68314",
   "metadata": {},
   "outputs": [],
   "source": [
    "#Q4\n",
    "Pandas Series is One-dimensional,Size-immutable and Series elements must be of the same data type. \n",
    "Whereas Pandas DataFrame is Two-dimensional,Size-mutable and DataFrame elements can have different data types.\n"
   ]
  },
  {
   "cell_type": "code",
   "execution_count": 9,
   "id": "dc85d6f4-5433-4dd8-8fb4-762ebeed8cd9",
   "metadata": {},
   "outputs": [
    {
     "name": "stdout",
     "output_type": "stream",
     "text": [
      "    name  age gender\n",
      "0  alice   35   male\n",
      "    name  age gender\n",
      "2  david   79   male\n",
      "(3, 3)\n"
     ]
    }
   ],
   "source": [
    "#Q5\n",
    "print(final1.head(1)) #Returns the first n rows of the DataFrame.\n",
    "print(final1.tail(1)) #Returns the last n rows of the DataFrame.\n",
    "print(final1.shape)   #Returns the dimensions of the DataFrame"
   ]
  },
  {
   "cell_type": "code",
   "execution_count": null,
   "id": "5f653885-2a08-4648-b5fa-4d6e1651834a",
   "metadata": {},
   "outputs": [],
   "source": [
    "#Q6\n",
    "Dataframes are size mutable"
   ]
  }
 ],
 "metadata": {
  "kernelspec": {
   "display_name": "Python 3 (ipykernel)",
   "language": "python",
   "name": "python3"
  },
  "language_info": {
   "codemirror_mode": {
    "name": "ipython",
    "version": 3
   },
   "file_extension": ".py",
   "mimetype": "text/x-python",
   "name": "python",
   "nbconvert_exporter": "python",
   "pygments_lexer": "ipython3",
   "version": "3.10.8"
  }
 },
 "nbformat": 4,
 "nbformat_minor": 5
}
