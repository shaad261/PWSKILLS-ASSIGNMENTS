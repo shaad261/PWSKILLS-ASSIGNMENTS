{
 "cells": [
  {
   "cell_type": "code",
   "execution_count": null,
   "id": "e16bd5c8-c120-4c43-ac1e-a0cbefdcfa47",
   "metadata": {},
   "outputs": [],
   "source": [
    "#Q1\n",
    "import seaborn as sns\n",
    "import plotly.graph_objects as go\n",
    "titanic = sns.load_dataset('titanic')\n",
    "fig = go.Figure()\n",
    "fig.add_trace(go.Scatter(x=titanic.age,y = titanic.fare,mode = 'markers'))"
   ]
  },
  {
   "cell_type": "code",
   "execution_count": null,
   "id": "9c2f8d8c-a6ee-48de-9162-08c39cef9b3e",
   "metadata": {},
   "outputs": [],
   "source": [
    "#Q2\n",
    "import plotly.express as p\n",
    "tips = p.data.tips()\n",
    "fig = p.box(tips, x='day', y='total_bill', color='sex')\n",
    "fig.show()"
   ]
  },
  {
   "cell_type": "code",
   "execution_count": null,
   "id": "78fdf9b5-2376-42ec-a63c-ab189f3c9f82",
   "metadata": {},
   "outputs": [],
   "source": [
    "#Q3\n",
    "fig = p.histogram(tips, x='sex', y='total_bill', color='day', \n",
    "                    pattern_shape='smoker')\n",
    "fig.show()"
   ]
  },
  {
   "cell_type": "code",
   "execution_count": null,
   "id": "fcb69deb-396a-479a-ad9b-af8ba1459708",
   "metadata": {},
   "outputs": [],
   "source": [
    "#Q4\n",
    "tips = p.data.tips()\n",
    "fig = p.histogram(tips, x=\"total_bill\", nbins=25, color_discrete_sequence=['#FF0000'])\n",
    "fig.show()\n"
   ]
  }
 ],
 "metadata": {
  "kernelspec": {
   "display_name": "Python 3 (ipykernel)",
   "language": "python",
   "name": "python3"
  },
  "language_info": {
   "codemirror_mode": {
    "name": "ipython",
    "version": 3
   },
   "file_extension": ".py",
   "mimetype": "text/x-python",
   "name": "python",
   "nbconvert_exporter": "python",
   "pygments_lexer": "ipython3",
   "version": "3.10.8"
  }
 },
 "nbformat": 4,
 "nbformat_minor": 5
}
