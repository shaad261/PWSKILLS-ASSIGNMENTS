{
 "cells": [
  {
   "cell_type": "code",
   "execution_count": 3,
   "id": "7cfe10bb-6f33-4a93-9725-0de412d6c159",
   "metadata": {},
   "outputs": [
    {
     "name": "stdout",
     "output_type": "stream",
     "text": [
      "4134711838987085478833841242112000\n"
     ]
    }
   ],
   "source": [
    "##1.\n",
    "def product_of_numbers(lst):\n",
    "    flat_lst = []\n",
    "    for item in lst:\n",
    "        if type(item) is list or type(item) is tuple or type(item) is set:\n",
    "            item = list(item)\n",
    "            for i in item:\n",
    "                flat_lst.append(i)\n",
    "        elif type(item) is dict:\n",
    "            itemm = list(item.keys())\n",
    "            for i in itemm:\n",
    "                flat_lst.append(i)\n",
    "            itemm = list(item.values())\n",
    "            for item in itemm:\n",
    "                if type(item) is list or type(item) is tuple or type(item) is set:\n",
    "                    item = list(item)\n",
    "                    for i in item:\n",
    "                        flat_lst.append(i)\n",
    "                else:\n",
    "                    flat_lst.append(item)\n",
    "        else:\n",
    "            flat_lst.append(item)\n",
    "    product = 1\n",
    "    for num in flat_lst:\n",
    "        if type(num) is int:\n",
    "            product *= num\n",
    "    \n",
    "    return product\n",
    "list1 = [1,2,3,4, [44,55,66, True], False, (34,56,78,89,34), {1,2,3,3,2,1}, {1:34, \"key2\": [55, 67, 78, 89], 4: (45,\n",
    "22, 61, 34)}, [56, 'data science'], 'Machine Learning']\n",
    "a=product_of_numbers(list1)\n",
    "print(a)"
   ]
  },
  {
   "cell_type": "code",
   "execution_count": 9,
   "id": "96c8d653-0bbf-400f-8f55-db823a33bb86",
   "metadata": {},
   "outputs": [
    {
     "name": "stdout",
     "output_type": "stream",
     "text": [
      " r$dzmg$gl$yvxlnv$z$wzgz$hxrvmgrhg\n"
     ]
    }
   ],
   "source": [
    "#2. \n",
    "def Encryption(s):\n",
    "    nstr=\" \"\n",
    "    s=s.lower()\n",
    "    for i in s:\n",
    "        if i==\" \":\n",
    "            nstr+=\"$\"\n",
    "        else:\n",
    "            nstr+=chr(97-ord(i)+122)\n",
    "    return (nstr)\n",
    "print(Encryption(\"I want to become a Data Scientist\"))"
   ]
  }
 ],
 "metadata": {
  "kernelspec": {
   "display_name": "Python 3 (ipykernel)",
   "language": "python",
   "name": "python3"
  },
  "language_info": {
   "codemirror_mode": {
    "name": "ipython",
    "version": 3
   },
   "file_extension": ".py",
   "mimetype": "text/x-python",
   "name": "python",
   "nbconvert_exporter": "python",
   "pygments_lexer": "ipython3",
   "version": "3.10.8"
  }
 },
 "nbformat": 4,
 "nbformat_minor": 5
}
