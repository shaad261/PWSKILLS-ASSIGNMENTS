{
 "cells": [
  {
   "cell_type": "code",
   "execution_count": 2,
   "id": "21cde916-eb45-4533-b74f-e6321d1e8017",
   "metadata": {},
   "outputs": [
    {
     "name": "stdout",
     "output_type": "stream",
     "text": [
      "invalid password\n"
     ]
    }
   ],
   "source": [
    "def checkpass(s):\n",
    "    special_list = \"! @ $ % ^ & * ( ) _ - + = { } [ ] | \\ , . > < / ? ~ ` \\\" ' : ;\".split()\n",
    "    l=0\n",
    "    u=0\n",
    "    it=0\n",
    "    spl=0\n",
    "    for i in s:\n",
    "        if i.isupper():\n",
    "            u+=1\n",
    "        elif i.islower():\n",
    "            l+=1\n",
    "        elif type(i)== int:\n",
    "            it+=1\n",
    "        elif i in special_list:\n",
    "            spl+=1\n",
    "            \n",
    "    if(spl<3 or l<2 or it<1 or s.len<10 or u<2):\n",
    "        a= (\"invalid password\")\n",
    "    else:\n",
    "        a= (\"valid password\")\n",
    "    return a\n",
    "strr='shaad'\n",
    "ans=checkpass(strr)\n",
    "print(ans)"
   ]
  },
  {
   "cell_type": "code",
   "execution_count": 17,
   "id": "12323b55-2ecc-4797-acbb-fe41b1bbd0c7",
   "metadata": {},
   "outputs": [
    {
     "data": {
      "text/plain": [
       "['5', '6', '8', '5', '6', '9', '8']"
      ]
     },
     "execution_count": 17,
     "metadata": {},
     "output_type": "execute_result"
    }
   ],
   "source": [
    "str=\"5685698\"\n",
    "list(filter(lambda x : x.isnumeric(),str))"
   ]
  },
  {
   "cell_type": "code",
   "execution_count": null,
   "id": "79c15101-28b7-4874-8878-5d1f5e31f2ee",
   "metadata": {},
   "outputs": [],
   "source": [
    "maxoftwo= lambda a: a if a>b else b "
   ]
  },
  {
   "cell_type": "code",
   "execution_count": 19,
   "id": "cc4975c2-a100-429d-8d63-b43b8b344840",
   "metadata": {},
   "outputs": [
    {
     "data": {
      "text/plain": [
       "(<function __main__.<lambda>(x)>, '5685698')"
      ]
     },
     "execution_count": 19,
     "metadata": {},
     "output_type": "execute_result"
    }
   ],
   "source": [
    "(lambda x : x.isnumeric(),str)"
   ]
  },
  {
   "cell_type": "code",
   "execution_count": 4,
   "id": "a9195083-18bd-42b6-a058-2f61ff3c1b76",
   "metadata": {},
   "outputs": [
    {
     "name": "stdout",
     "output_type": "stream",
     "text": [
      "['shaad', 'shaa']\n"
     ]
    }
   ],
   "source": [
    "#Q2. \n",
    "#1 Check if the string starts with a particular letterY\n",
    "letter = ['shaad', 'shaa','daad', 'phaad']\n",
    "output = filter(lambda x:x.startswith('s'), letter)\n",
    "print(list(output))"
   ]
  },
  {
   "cell_type": "code",
   "execution_count": 5,
   "id": "ef6a8147-75fa-4368-a215-da72b94f21a0",
   "metadata": {},
   "outputs": [
    {
     "name": "stdout",
     "output_type": "stream",
     "text": [
      "['12', '678', '888']\n"
     ]
    }
   ],
   "source": [
    "#2- NUMERIC STRING\n",
    "letter = ['12', 'shaa','678', '888']\n",
    "output = filter(lambda x:x.isnumeric(), letter)\n",
    "print(list(output))"
   ]
  },
  {
   "cell_type": "code",
   "execution_count": 8,
   "id": "ef06b57d-5280-4df5-8365-72f969a1fbac",
   "metadata": {},
   "outputs": [
    {
     "name": "stdout",
     "output_type": "stream",
     "text": [
      "[('orange', 80), ('mango', 99), ('grapes', 1000)]\n"
     ]
    }
   ],
   "source": [
    "#3.Sort a list of tuples having fruit names and their quantity.\n",
    "ss = [(\"mango\",99),(\"orange\",80),(\"grapes\",1000)]\n",
    "output = sorted(ss, key=lambda x: x[1])\n",
    "print(output)\n"
   ]
  },
  {
   "cell_type": "code",
   "execution_count": null,
   "id": "7f06583e-a56c-46e6-a9bc-33fde1d2d932",
   "metadata": {},
   "outputs": [],
   "source": [
    "#4-Find the squares of numbers from 1 to 10Y\n",
    "l=[1,2,3,4,5,6,7,8,9,10]\n",
    "list(map(lambda n: n**2 ,l))"
   ]
  },
  {
   "cell_type": "code",
   "execution_count": 23,
   "id": "c06b86f8-acb4-4222-bba5-40fa1bec1e46",
   "metadata": {},
   "outputs": [
    {
     "data": {
      "text/plain": [
       "[1, 8, 27, 64, 125, 216, 343, 512, 729, 1000]"
      ]
     },
     "execution_count": 23,
     "metadata": {},
     "output_type": "execute_result"
    }
   ],
   "source": [
    "#5-Find the cube root of numbers from 1 to 10\n",
    "l=[1,2,3,4,5,6,7,8,9,10]\n",
    "list(map(lambda n: n**3 ,l))"
   ]
  },
  {
   "cell_type": "code",
   "execution_count": 24,
   "id": "0b7728b5-a8e5-4886-81f6-5ff60e8cf73e",
   "metadata": {},
   "outputs": [
    {
     "data": {
      "text/plain": [
       "[2, 4, 6, 8, 10]"
      ]
     },
     "execution_count": 24,
     "metadata": {},
     "output_type": "execute_result"
    }
   ],
   "source": [
    "#6-Check if a given number is even\n",
    "list(filter(lambda x : x%2 == 0,l))"
   ]
  },
  {
   "cell_type": "code",
   "execution_count": 25,
   "id": "41af9f92-a55c-4e2f-acf5-925980defccf",
   "metadata": {},
   "outputs": [
    {
     "data": {
      "text/plain": [
       "[1, 3, 5, 7, 9]"
      ]
     },
     "execution_count": 25,
     "metadata": {},
     "output_type": "execute_result"
    }
   ],
   "source": [
    "#7-Filter odd numbers from the given list.\n",
    "l1=[1,2,3,4,5,6,7,8,9,10]\n",
    "list(filter(lambda x : x%2 == 1,l1))"
   ]
  },
  {
   "cell_type": "code",
   "execution_count": 11,
   "id": "2c693c8d-8fa4-4d98-9b86-e37dd67e6458",
   "metadata": {},
   "outputs": [
    {
     "name": "stdout",
     "output_type": "stream",
     "text": [
      "[1, 7, 0, 6, 9, 88]\n",
      "[-7, -5, -2, -99]\n"
     ]
    }
   ],
   "source": [
    "#8-Sort a list of integers into positive and negative integers lists.\n",
    "num =[1,7,-7,0,6,-5,9,-2,88,-99]\n",
    "p=[]\n",
    "n=[]\n",
    "p=list(filter(lambda x:x>=0,num))\n",
    "n=list(filter(lambda x:x<0,num))      \n",
    "print(p)\n",
    "print(n)"
   ]
  }
 ],
 "metadata": {
  "kernelspec": {
   "display_name": "Python 3 (ipykernel)",
   "language": "python",
   "name": "python3"
  },
  "language_info": {
   "codemirror_mode": {
    "name": "ipython",
    "version": 3
   },
   "file_extension": ".py",
   "mimetype": "text/x-python",
   "name": "python",
   "nbconvert_exporter": "python",
   "pygments_lexer": "ipython3",
   "version": "3.10.8"
  }
 },
 "nbformat": 4,
 "nbformat_minor": 5
}
